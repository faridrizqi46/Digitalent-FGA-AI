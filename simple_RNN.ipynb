{
 "cells": [
  {
   "cell_type": "code",
   "execution_count": 3,
   "metadata": {},
   "outputs": [
    {
     "name": "stdout",
     "output_type": "stream",
     "text": [
      "[[-0.776318431 -0.844548464 0.438419849]\n",
      " [-0.0857750699 -0.993522227 0.516408086]\n",
      " [0.698345721 -0.999749422 0.586677969]]\n",
      "[[1 -1 0.999998629]\n",
      " [1 -1 0.999998331]\n",
      " [1 -1 0.999997377]]\n"
     ]
    }
   ],
   "source": [
    "import numpy as np\n",
    "import tensorflow as tf\n",
    "\n",
    "np.random.seed(0)\n",
    "tf.random.set_seed(0)\n",
    "\n",
    "num_input=2\n",
    "num_neurons=3\n",
    "Wf=tf.Variable(tf.random.normal(shape=[num_input, num_neurons]))\n",
    "Wr=tf.Variable(tf.random.normal(shape=[num_neurons, num_neurons]))\n",
    "bias=tf.Variable(tf.zeros([1,num_neurons]))\n",
    "\n",
    "#pseudo_data\n",
    "xt0_batch=np.array([[0,1],[2,3],[4,5]]).astype(np.float32)\n",
    "xt1_batch=np.array([[100,101],[102,103],[104,105]]).astype(np.float32)\n",
    "\n",
    "def forward_pass(xt0,xt1):\n",
    "    yt0=tf.tanh(tf.matmul(xt0,Wf)+bias)\n",
    "    yt1=tf.tanh(tf.matmul(yt0,Wr)+tf.matmul(xt1,Wf)+bias)\n",
    "    return yt0,yt1\n",
    "\n",
    "yt0_output,yt1_output=forward_pass(xt0_batch,xt1_batch)\n",
    "tf.print(yt0_output)\n",
    "tf.print(yt1_output)\n"
   ]
  },
  {
   "cell_type": "code",
   "execution_count": null,
   "metadata": {},
   "outputs": [],
   "source": []
  }
 ],
 "metadata": {
  "kernelspec": {
   "display_name": "Python 3",
   "language": "python",
   "name": "python3"
  },
  "language_info": {
   "codemirror_mode": {
    "name": "ipython",
    "version": 3
   },
   "file_extension": ".py",
   "mimetype": "text/x-python",
   "name": "python",
   "nbconvert_exporter": "python",
   "pygments_lexer": "ipython3",
   "version": "3.8.3"
  }
 },
 "nbformat": 4,
 "nbformat_minor": 4
}
