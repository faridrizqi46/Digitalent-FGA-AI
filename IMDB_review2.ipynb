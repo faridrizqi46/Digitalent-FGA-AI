{
  "nbformat": 4,
  "nbformat_minor": 0,
  "metadata": {
    "colab": {
      "name": "IMDB_review2.ipynb",
      "provenance": [],
      "collapsed_sections": []
    },
    "kernelspec": {
      "name": "python3",
      "display_name": "Python 3"
    },
    "language_info": {
      "name": "python"
    },
    "accelerator": "GPU"
  },
  "cells": [
    {
      "cell_type": "code",
      "metadata": {
        "colab": {
          "base_uri": "https://localhost:8080/"
        },
        "id": "b3ujk74jPYPg",
        "outputId": "6e9c1240-5784-4eca-a6e1-cc71d518c772"
      },
      "source": [
        "import tensorflow as tf\n",
        "import tensorflow_datasets as tfds\n",
        "tfds.disable_progress_bar()\n",
        "\n",
        "dataset, info = tfds.load('imdb_reviews', with_info=True, as_supervised=True)\n"
      ],
      "execution_count": 2,
      "outputs": [
        {
          "output_type": "stream",
          "text": [
            "\u001b[1mDownloading and preparing dataset imdb_reviews/plain_text/1.0.0 (download: 80.23 MiB, generated: Unknown size, total: 80.23 MiB) to /root/tensorflow_datasets/imdb_reviews/plain_text/1.0.0...\u001b[0m\n",
            "Shuffling and writing examples to /root/tensorflow_datasets/imdb_reviews/plain_text/1.0.0.incompleteUBP13Q/imdb_reviews-train.tfrecord\n",
            "Shuffling and writing examples to /root/tensorflow_datasets/imdb_reviews/plain_text/1.0.0.incompleteUBP13Q/imdb_reviews-test.tfrecord\n",
            "Shuffling and writing examples to /root/tensorflow_datasets/imdb_reviews/plain_text/1.0.0.incompleteUBP13Q/imdb_reviews-unsupervised.tfrecord\n"
          ],
          "name": "stdout"
        },
        {
          "output_type": "stream",
          "text": [
            "WARNING:absl:Dataset is using deprecated text encoder API which will be removed soon. Please use the plain_text version of the dataset and migrate to `tensorflow_text`.\n"
          ],
          "name": "stderr"
        },
        {
          "output_type": "stream",
          "text": [
            "\u001b[1mDataset imdb_reviews downloaded and prepared to /root/tensorflow_datasets/imdb_reviews/plain_text/1.0.0. Subsequent calls will reuse this data.\u001b[0m\n"
          ],
          "name": "stdout"
        }
      ]
    },
    {
      "cell_type": "code",
      "metadata": {
        "id": "rT6yj6R5S3hc"
      },
      "source": [
        ""
      ],
      "execution_count": 2,
      "outputs": []
    },
    {
      "cell_type": "code",
      "metadata": {
        "id": "ZiL3yrGaQ0Dg"
      },
      "source": [
        "\n"
      ],
      "execution_count": 2,
      "outputs": []
    },
    {
      "cell_type": "code",
      "metadata": {
        "id": "Tt3S028zRZND"
      },
      "source": [
        ""
      ],
      "execution_count": 2,
      "outputs": []
    },
    {
      "cell_type": "code",
      "metadata": {
        "id": "DxHOMLdJXcu-"
      },
      "source": [
        ""
      ],
      "execution_count": 2,
      "outputs": []
    },
    {
      "cell_type": "code",
      "metadata": {
        "id": "IDtslWCwSRp7"
      },
      "source": [
        "train_data, test_data = dataset['train'], dataset['test']\n",
        "BUFFER_SIZE = 10000 #untuk mengacak2 kata2 (untuk menghindari bias)\n",
        "BATCH_SIZE = 64 #panjang sequence\n",
        "\n",
        "train_data = train_data.shuffle(BUFFER_SIZE).batch(BATCH_SIZE).prefetch(tf.data.AUTOTUNE)\n",
        "test_data = test_data.batch(BATCH_SIZE).prefetch(tf.data.AUTOTUNE)\n",
        "\n",
        "VOCAB_SIZE = 1000\n",
        "#text encoder untuk mengubah text kedalam nilai numerik\n",
        "encoder = tf.keras.layers.experimental.preprocessing.TextVectorization(\n",
        "    max_tokens=VOCAB_SIZE)\n",
        "encoder.adapt(train_data.map(lambda text, label: text))\n",
        "\n",
        "\n"
      ],
      "execution_count": 3,
      "outputs": []
    },
    {
      "cell_type": "code",
      "metadata": {
        "id": "kX4fBEkLS46H"
      },
      "source": [
        "from tensorflow.keras.models import Sequential\n",
        "from tensorflow.keras.layers import Dense, Embedding, Bidirectional, Dropout, LSTM\n",
        "from tensorflow.keras.losses import BinaryCrossentropy\n",
        "from tensorflow.keras.optimizers import Adam\n",
        "\n",
        "model = tf.keras.Sequential([\n",
        "    encoder,\n",
        "    tf.keras.layers.Embedding(\n",
        "        input_dim=len(encoder.get_vocabulary()),\n",
        "        output_dim=64,\n",
        "        # Use masking to handle the variable sequence lengths\n",
        "        mask_zero=True),\n",
        "    tf.keras.layers.Bidirectional(tf.keras.layers.LSTM(64)),\n",
        "    tf.keras.layers.Dense(64, activation='relu'),\n",
        "    tf.keras.layers.Dense(1)\n",
        "])\n",
        "\n",
        "\n",
        "\n"
      ],
      "execution_count": 4,
      "outputs": []
    },
    {
      "cell_type": "code",
      "metadata": {
        "colab": {
          "base_uri": "https://localhost:8080/",
          "height": 564
        },
        "id": "DWs7nUAgTm9G",
        "outputId": "dd7fb320-bb5c-48bb-d792-cdcb3bb1e667"
      },
      "source": [
        "tf.keras.utils.plot_model(model)\n"
      ],
      "execution_count": 5,
      "outputs": [
        {
          "output_type": "execute_result",
          "data": {
            "image/png": "[encoded data removed]",
            "text/plain": [
              "<IPython.core.display.Image object>"
            ]
          },
          "metadata": {},
          "execution_count": 5
        }
      ]
    },
    {
      "cell_type": "code",
      "metadata": {
        "colab": {
          "base_uri": "https://localhost:8080/"
        },
        "id": "bgvqmcgaTtLG",
        "outputId": "53b252db-c44a-4a73-cae3-ea7ec75b5fb2"
      },
      "source": [
        "model.compile(loss=BinaryCrossentropy(from_logits=True),\n",
        "              optimizer=Adam(1e-4),\n",
        "              metrics=['accuracy'])\n",
        "\n",
        "history = model.fit(train_data, \n",
        "                    epochs=10, \n",
        "                    validation_data=test_data,\n",
        "                    validation_steps=30)\n"
      ],
      "execution_count": 6,
      "outputs": [
        {
          "output_type": "stream",
          "text": [
            "Epoch 1/10\n",
            "391/391 [==============================] - 110s 248ms/step - loss: 0.6256 - accuracy: 0.5921 - val_loss: 0.4974 - val_accuracy: 0.7323\n",
            "Epoch 2/10\n",
            "391/391 [==============================] - 93s 235ms/step - loss: 0.4261 - accuracy: 0.8026 - val_loss: 0.4628 - val_accuracy: 0.7932\n",
            "Epoch 3/10\n",
            "391/391 [==============================] - 91s 230ms/step - loss: 0.3726 - accuracy: 0.8315 - val_loss: 0.3552 - val_accuracy: 0.8411\n",
            "Epoch 4/10\n",
            "391/391 [==============================] - 92s 233ms/step - loss: 0.3344 - accuracy: 0.8542 - val_loss: 0.3395 - val_accuracy: 0.8490\n",
            "Epoch 5/10\n",
            "391/391 [==============================] - 91s 231ms/step - loss: 0.3212 - accuracy: 0.8608 - val_loss: 0.3318 - val_accuracy: 0.8562\n",
            "Epoch 6/10\n",
            "391/391 [==============================] - 92s 233ms/step - loss: 0.3111 - accuracy: 0.8677 - val_loss: 0.3335 - val_accuracy: 0.8448\n",
            "Epoch 7/10\n",
            "391/391 [==============================] - 95s 240ms/step - loss: 0.3069 - accuracy: 0.8688 - val_loss: 0.3205 - val_accuracy: 0.8594\n",
            "Epoch 8/10\n",
            "391/391 [==============================] - 92s 234ms/step - loss: 0.3047 - accuracy: 0.8693 - val_loss: 0.3272 - val_accuracy: 0.8562\n",
            "Epoch 9/10\n",
            "391/391 [==============================] - 92s 233ms/step - loss: 0.3006 - accuracy: 0.8722 - val_loss: 0.3191 - val_accuracy: 0.8557\n",
            "Epoch 10/10\n",
            "391/391 [==============================] - 92s 234ms/step - loss: 0.2996 - accuracy: 0.8717 - val_loss: 0.3219 - val_accuracy: 0.8615\n"
          ],
          "name": "stdout"
        }
      ]
    },
    {
      "cell_type": "code",
      "metadata": {
        "id": "CLE0ehO_hapn"
      },
      "source": [
        ""
      ],
      "execution_count": 6,
      "outputs": []
    },
    {
      "cell_type": "code",
      "metadata": {
        "colab": {
          "base_uri": "https://localhost:8080/"
        },
        "id": "XLU8jpVMXeXb",
        "outputId": "30667deb-c943-4bc8-adbe-100857d568e1"
      },
      "source": [
        "test_loss, test_acc = model.evaluate(test_data)\n",
        "\n",
        "print('Test Loss:', test_loss)\n",
        "print('Test Accuracy:', test_acc)\n"
      ],
      "execution_count": 7,
      "outputs": [
        {
          "output_type": "stream",
          "text": [
            "391/391 [==============================] - 48s 123ms/step - loss: 0.3177 - accuracy: 0.8574\n",
            "Test Loss: 0.31768667697906494\n",
            "Test Accuracy: 0.8573600053787231\n"
          ],
          "name": "stdout"
        }
      ]
    },
    {
      "cell_type": "code",
      "metadata": {
        "id": "RexXNprFX2yx"
      },
      "source": [
        "import matplotlib.pyplot as plt\n",
        "\n",
        "def plot_graphs(history, metric):\n",
        "  plt.plot(history.history[metric])\n",
        "  plt.plot(history.history['val_'+metric], '')\n",
        "  plt.xlabel(\"Epochs\")\n",
        "  plt.ylabel(metric)\n",
        "  plt.legend([metric, 'val_'+metric])\n",
        "\n",
        "plt.figure(figsize=(17, 7))\n",
        "plt.subplot(1, 2, 1)\n",
        "plot_graphs(history, 'accuracy')\n",
        "plt.ylim(None, 1)\n",
        "plt.subplot(1, 2, 2)\n",
        "plot_graphs(history, 'loss')\n",
        "plt.ylim(0, None)\n",
        "plt.show()\n",
        "\n"
      ],
      "execution_count": null,
      "outputs": []
    },
    {
      "cell_type": "code",
      "metadata": {
        "id": "iHO5wDmjYNfG"
      },
      "source": [
        "def review_padding(encoded_review, padding_size):\n",
        "    zeros = [0] * (padding_size - len(encoded_review))\n",
        "    encoded_review.extend(zeros)\n",
        "    return encoded_review\n",
        "\n",
        "def review_encoder(review):\n",
        "    encoded_review = review_padding(encoder.encode( review ), 64)\n",
        "    encoded_review = tf.cast( encoded_review,  tf.float32)\n",
        "    return tf.expand_dims( encoded_review, 0)\n",
        "\n",
        "fight_club_review = 'It has some cliched moments, even for its time, \\\n",
        "but FIGHT CLUB is an awesome film. I have watched it \\\n",
        "about 100 times in the past 20 years. It never gets old. It \\\n",
        "is hard to discuss this film without giving things away but \\\n",
        "suffice it to say, it is a great thriller with some intriguing \\\n",
        "twists.'\n",
        "\n",
        "model.predict(review_encoder(fight_club_review)) #positif artinya bagus (>0.5). negatif jeleg (<0.5)\n"
      ],
      "execution_count": null,
      "outputs": []
    },
    {
      "cell_type": "code",
      "metadata": {
        "id": "Djwa7pr8Y0BS"
      },
      "source": [
        "any_movie = 'The movie was not good. The animation and the graphics \\\n",
        "             were terrible. I would not recommend this movie.'\n",
        "\n",
        "model.predict(review_encoder(any_movie))\n"
      ],
      "execution_count": null,
      "outputs": []
    },
    {
      "cell_type": "code",
      "metadata": {
        "id": "nYWWFVV6ZBPt"
      },
      "source": [
        "mission_impossible_review = 'Worst movie!'\n",
        "\n",
        "model.predict(review_encoder(mission_impossible_review)) #ini ada bias, yg jadi kelemahan model kita\n",
        "#cara ngehandlenya: dicoba cara lain dengan text vectorization (encoding dan decoding data2 nya)\n"
      ],
      "execution_count": null,
      "outputs": []
    },
    {
      "cell_type": "code",
      "metadata": {
        "id": "RYEWAJXGhqAE"
      },
      "source": [
        "sample_text = ('The movie was cool. The animation and the graphics '\n",
        "               'were out of this world. I would recommend this movie.')\n",
        "predictions = model.predict(np.array([sample_text]))\n",
        "print(predictions)\n",
        "\n",
        "any_movie = ('Terrible movie!')\n",
        "predictions2 = model.predict(np.array([any_movie]))\n",
        "print(predictions2)\n",
        "\n",
        "pos_movie = (‘Awesome movie!')\n",
        "predictions3 = model.predict(np.array([pos_movie]))\n",
        "print(predictions3)\n"
      ],
      "execution_count": null,
      "outputs": []
    }
  ]
}