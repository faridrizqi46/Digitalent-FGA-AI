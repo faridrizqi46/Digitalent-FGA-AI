{
 "cells": [
  {
   "cell_type": "code",
   "execution_count": 16,
   "metadata": {
    "executionInfo": {
     "elapsed": 311,
     "status": "ok",
     "timestamp": 1627560921505,
     "user": {
      "displayName": "Vivi Andasari",
      "photoUrl": "https://lh3.googleusercontent.com/a-/AOh14GjDlaIRwKg3Rw58kEE6AUnNH6Xg4EpefqL2gOMBrA=s64",
      "userId": "10180978082602448855"
     },
     "user_tz": 240
    },
    "id": "ku5pEkm19YLI"
   },
   "outputs": [],
   "source": [
    "import tensorflow as tf\n",
    "w = tf.Variable(0.0)\n",
    "b = tf.Variable(0.0)"
   ]
  },
  {
   "cell_type": "code",
   "execution_count": 17,
   "metadata": {
    "executionInfo": {
     "elapsed": 10,
     "status": "ok",
     "timestamp": 1627560921805,
     "user": {
      "displayName": "Vivi Andasari",
      "photoUrl": "https://lh3.googleusercontent.com/a-/AOh14GjDlaIRwKg3Rw58kEE6AUnNH6Xg4EpefqL2gOMBrA=s64",
      "userId": "10180978082602448855"
     },
     "user_tz": 240
    },
    "id": "8h0gzp0T9fFe"
   },
   "outputs": [],
   "source": [
    "def regression(x):\n",
    "    model=w*x+b\n",
    "    return model"
   ]
  },
  {
   "cell_type": "code",
   "execution_count": 18,
   "metadata": {
    "executionInfo": {
     "elapsed": 10,
     "status": "ok",
     "timestamp": 1627560921806,
     "user": {
      "displayName": "Vivi Andasari",
      "photoUrl": "https://lh3.googleusercontent.com/a-/AOh14GjDlaIRwKg3Rw58kEE6AUnNH6Xg4EpefqL2gOMBrA=s64",
      "userId": "10180978082602448855"
     },
     "user_tz": 240
    },
    "id": "Sq5AB6on9np0"
   },
   "outputs": [],
   "source": [
    "x = [1,2,3,4]\n",
    "y = [0,-1,-2,-3]"
   ]
  },
  {
   "cell_type": "code",
   "execution_count": 19,
   "metadata": {
    "executionInfo": {
     "elapsed": 3047,
     "status": "ok",
     "timestamp": 1627560924845,
     "user": {
      "displayName": "Vivi Andasari",
      "photoUrl": "https://lh3.googleusercontent.com/a-/AOh14GjDlaIRwKg3Rw58kEE6AUnNH6Xg4EpefqL2gOMBrA=s64",
      "userId": "10180978082602448855"
     },
     "user_tz": 240
    },
    "id": "9NzHacuN-gd4"
   },
   "outputs": [],
   "source": [
    "loss = lambda:abs(regression(x) - y)\n",
    "#optimizer = tf.optimizers.Adam(.01)\n",
    "optimizer = tf.keras.optimizers.Adam(0.01)\n",
    "for i in range(1000):\n",
    "    optimizer.minimize(loss, [w,b])"
   ]
  },
  {
   "cell_type": "code",
   "execution_count": 20,
   "metadata": {
    "colab": {
     "base_uri": "https://localhost:8080/"
    },
    "executionInfo": {
     "elapsed": 20,
     "status": "ok",
     "timestamp": 1627560924846,
     "user": {
      "displayName": "Vivi Andasari",
      "photoUrl": "https://lh3.googleusercontent.com/a-/AOh14GjDlaIRwKg3Rw58kEE6AUnNH6Xg4EpefqL2gOMBrA=s64",
      "userId": "10180978082602448855"
     },
     "user_tz": 240
    },
    "id": "9PND4ZkE-lwq",
    "outputId": "fa91583e-56ba-464c-93b0-05ad01084c1b"
   },
   "outputs": [
    {
     "name": "stdout",
     "output_type": "stream",
     "text": [
      "-1.00371706 0.999803126\n"
     ]
    }
   ],
   "source": [
    "tf.print(w,b)"
   ]
  },
  {
   "cell_type": "code",
   "execution_count": 21,
   "metadata": {
    "colab": {
     "base_uri": "https://localhost:8080/"
    },
    "executionInfo": {
     "elapsed": 14,
     "status": "ok",
     "timestamp": 1627560924847,
     "user": {
      "displayName": "Vivi Andasari",
      "photoUrl": "https://lh3.googleusercontent.com/a-/AOh14GjDlaIRwKg3Rw58kEE6AUnNH6Xg4EpefqL2gOMBrA=s64",
      "userId": "10180978082602448855"
     },
     "user_tz": 240
    },
    "id": "04Op2n3a-qCR",
    "outputId": "6b3db8f1-7cd0-49c7-99b7-0a5f982c1f0b"
   },
   "outputs": [
    {
     "name": "stdout",
     "output_type": "stream",
     "text": [
      "[-0.003913939 -1.00763106 -2.01134825 -3.01506519]\n"
     ]
    }
   ],
   "source": [
    "tf.print(regression([1,2,3,4]))"
   ]
  }
 ],
 "metadata": {
  "colab": {
   "authorship_tag": "ABX9TyOxwf877HiXNd7mCvHWckDa",
   "collapsed_sections": [],
   "name": "simple_reg.ipynb",
   "provenance": []
  },
  "kernelspec": {
   "display_name": "Python 3 (ipykernel)",
   "language": "python",
   "name": "python3"
  },
  "language_info": {
   "codemirror_mode": {
    "name": "ipython",
    "version": 3
   },
   "file_extension": ".py",
   "mimetype": "text/x-python",
   "name": "python",
   "nbconvert_exporter": "python",
   "pygments_lexer": "ipython3",
   "version": "3.7.9"
  }
 },
 "nbformat": 4,
 "nbformat_minor": 4
}
