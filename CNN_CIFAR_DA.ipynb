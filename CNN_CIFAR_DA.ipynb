{
 "cells": [
  {
   "cell_type": "code",
   "execution_count": 7,
   "metadata": {
    "id": "yz1SQyamqGvm"
   },
   "outputs": [],
   "source": [
    "import tensorflow as tf\n",
    "import matplotlib.pyplot as plt\n",
    "import numpy as np\n",
    "from tensorflow.keras import datasets, layers, models\n",
    "from tensorflow.keras.preprocessing.image import ImageDataGenerator"
   ]
  },
  {
   "cell_type": "code",
   "execution_count": 8,
   "metadata": {
    "id": "eOeFoHzZquxI"
   },
   "outputs": [],
   "source": [
    "(train_images, train_labels), (test_images, test_labels) = datasets.cifar10.load_data()"
   ]
  },
  {
   "cell_type": "code",
   "execution_count": 9,
   "metadata": {
    "colab": {
     "base_uri": "https://localhost:8080/"
    },
    "id": "fDqd9p4rrCaD",
    "outputId": "64140e34-0d0d-4d53-8ade-613d103f5eee"
   },
   "outputs": [
    {
     "data": {
      "text/plain": [
       "(50000, 32, 32, 3)"
      ]
     },
     "execution_count": 9,
     "metadata": {
      "tags": []
     },
     "output_type": "execute_result"
    }
   ],
   "source": [
    "train_images.shape"
   ]
  },
  {
   "cell_type": "code",
   "execution_count": 10,
   "metadata": {
    "id": "mHmb0xDSrIly"
   },
   "outputs": [],
   "source": [
    "batch_size = 16\n",
    "img_height = 32 #panjang 32\n",
    "img_width = 32 #lebar\n",
    "\n",
    "train_img_gen = ImageDataGenerator(rescale=1./255, width_shift_range=0.1, height_shift_range=0.1, horizontal_flip=True)\n",
    "val_img_gen = ImageDataGenerator(rescale=1./255)\n",
    "\n",
    "train_data_gen = train_img_gen.flow(train_images, train_labels, batch_size=batch_size)\n",
    "val_data_gen = train_img_gen.flow(test_images, test_labels, batch_size=batch_size)\n",
    "\n",
    "np.random.seed(8)\n",
    "tf.random.set_seed(8)"
   ]
  },
  {
   "cell_type": "code",
   "execution_count": 11,
   "metadata": {
    "id": "xBj1tA39sysE"
   },
   "outputs": [],
   "source": [
    "#Membangun model 3 block\n",
    "model = tf.keras.Sequential([layers.Conv2D(32, 3, activation='relu', input_shape=(img_height, img_width ,3)),\n",
    "                             layers.MaxPooling2D(),\n",
    "                             layers.Conv2D(64, 3, activation='relu'),\n",
    "                             layers.MaxPooling2D(),\n",
    "                             layers.Conv2D(128, 3, activation='relu'),\n",
    "                             layers.MaxPooling2D(),\n",
    "                             layers.Flatten(),\n",
    "                             layers.Dense(128, activation='relu'),\n",
    "                             layers.Dense(10, activation='softmax')])"
   ]
  },
  {
   "cell_type": "code",
   "execution_count": 12,
   "metadata": {
    "colab": {
     "base_uri": "https://localhost:8080/"
    },
    "id": "d2nt8ICXuBm6",
    "outputId": "64449a51-2cc8-48e9-ecf3-ae4d7dffa528"
   },
   "outputs": [
    {
     "name": "stdout",
     "output_type": "stream",
     "text": [
      "Model: \"sequential_1\"\n",
      "_________________________________________________________________\n",
      "Layer (type)                 Output Shape              Param #   \n",
      "=================================================================\n",
      "conv2d_3 (Conv2D)            (None, 30, 30, 32)        896       \n",
      "_________________________________________________________________\n",
      "max_pooling2d_3 (MaxPooling2 (None, 15, 15, 32)        0         \n",
      "_________________________________________________________________\n",
      "conv2d_4 (Conv2D)            (None, 13, 13, 64)        18496     \n",
      "_________________________________________________________________\n",
      "max_pooling2d_4 (MaxPooling2 (None, 6, 6, 64)          0         \n",
      "_________________________________________________________________\n",
      "conv2d_5 (Conv2D)            (None, 4, 4, 128)         73856     \n",
      "_________________________________________________________________\n",
      "max_pooling2d_5 (MaxPooling2 (None, 2, 2, 128)         0         \n",
      "_________________________________________________________________\n",
      "flatten_1 (Flatten)          (None, 512)               0         \n",
      "_________________________________________________________________\n",
      "dense_2 (Dense)              (None, 128)               65664     \n",
      "_________________________________________________________________\n",
      "dense_3 (Dense)              (None, 10)                1290      \n",
      "=================================================================\n",
      "Total params: 160,202\n",
      "Trainable params: 160,202\n",
      "Non-trainable params: 0\n",
      "_________________________________________________________________\n"
     ]
    }
   ],
   "source": [
    "optimizer = tf.keras.optimizers.Adam(learning_rate=0.001)\n",
    "loss = 'sparse_categorical_crossentropy'\n",
    "metrics = ['accuracy']\n",
    "model.compile(loss=loss, optimizer=optimizer, metrics=metrics)\n",
    "\n",
    "model.summary()"
   ]
  },
  {
   "cell_type": "code",
   "execution_count": 14,
   "metadata": {
    "colab": {
     "base_uri": "https://localhost:8080/"
    },
    "id": "67QAja1vvJrk",
    "outputId": "0b4ad975-d417-44b4-b6d4-b8691853ba6f"
   },
   "outputs": [
    {
     "name": "stdout",
     "output_type": "stream",
     "text": [
      "Epoch 1/20\n",
      "3125/3125 [==============================] - 108s 34ms/step - loss: 1.5989 - accuracy: 0.1013 - val_loss: 1.3520 - val_accuracy: 0.1191\n",
      "Epoch 2/20\n",
      "3125/3125 [==============================] - 111s 35ms/step - loss: 1.2619 - accuracy: 0.0973 - val_loss: 1.2149 - val_accuracy: 0.1081\n",
      "Epoch 3/20\n",
      "3125/3125 [==============================] - 109s 35ms/step - loss: 1.1258 - accuracy: 0.0980 - val_loss: 1.1188 - val_accuracy: 0.0900\n",
      "Epoch 4/20\n",
      "3125/3125 [==============================] - 109s 35ms/step - loss: 1.0430 - accuracy: 0.0979 - val_loss: 1.0118 - val_accuracy: 0.0954\n",
      "Epoch 5/20\n",
      "3125/3125 [==============================] - 109s 35ms/step - loss: 0.9831 - accuracy: 0.0977 - val_loss: 0.9976 - val_accuracy: 0.1300\n",
      "Epoch 6/20\n",
      "3125/3125 [==============================] - 107s 34ms/step - loss: 0.9368 - accuracy: 0.1001 - val_loss: 0.9583 - val_accuracy: 0.0890\n",
      "Epoch 7/20\n",
      "3125/3125 [==============================] - 107s 34ms/step - loss: 0.9012 - accuracy: 0.1001 - val_loss: 0.9207 - val_accuracy: 0.1020\n",
      "Epoch 8/20\n",
      "3125/3125 [==============================] - 107s 34ms/step - loss: 0.8686 - accuracy: 0.1014 - val_loss: 0.9202 - val_accuracy: 0.0922\n",
      "Epoch 9/20\n",
      "3125/3125 [==============================] - 107s 34ms/step - loss: 0.8496 - accuracy: 0.1001 - val_loss: 0.8829 - val_accuracy: 0.1219\n",
      "Epoch 10/20\n",
      "3125/3125 [==============================] - 107s 34ms/step - loss: 0.8351 - accuracy: 0.1013 - val_loss: 0.8828 - val_accuracy: 0.1066\n",
      "Epoch 11/20\n",
      "3125/3125 [==============================] - 106s 34ms/step - loss: 0.8176 - accuracy: 0.1009 - val_loss: 0.8758 - val_accuracy: 0.0900\n",
      "Epoch 12/20\n",
      "3125/3125 [==============================] - 106s 34ms/step - loss: 0.8000 - accuracy: 0.1013 - val_loss: 0.8613 - val_accuracy: 0.0971\n",
      "Epoch 13/20\n",
      "3125/3125 [==============================] - 106s 34ms/step - loss: 0.7882 - accuracy: 0.1020 - val_loss: 0.8238 - val_accuracy: 0.1068\n",
      "Epoch 14/20\n",
      "3125/3125 [==============================] - 108s 35ms/step - loss: 0.7703 - accuracy: 0.1011 - val_loss: 0.8404 - val_accuracy: 0.1194\n",
      "Epoch 15/20\n",
      "3125/3125 [==============================] - 108s 35ms/step - loss: 0.7660 - accuracy: 0.1011 - val_loss: 0.7907 - val_accuracy: 0.0977\n",
      "Epoch 16/20\n",
      "3125/3125 [==============================] - 107s 34ms/step - loss: 0.7472 - accuracy: 0.1008 - val_loss: 0.7937 - val_accuracy: 0.0899\n",
      "Epoch 17/20\n",
      "3125/3125 [==============================] - 108s 35ms/step - loss: 0.7395 - accuracy: 0.0999 - val_loss: 0.7949 - val_accuracy: 0.1183\n",
      "Epoch 18/20\n",
      "3125/3125 [==============================] - 109s 35ms/step - loss: 0.7373 - accuracy: 0.1011 - val_loss: 0.8084 - val_accuracy: 0.1163\n",
      "Epoch 19/20\n",
      "3125/3125 [==============================] - 111s 36ms/step - loss: 0.7187 - accuracy: 0.1013 - val_loss: 0.7900 - val_accuracy: 0.1062\n",
      "Epoch 20/20\n",
      "3125/3125 [==============================] - 115s 37ms/step - loss: 0.7139 - accuracy: 0.1013 - val_loss: 0.8754 - val_accuracy: 0.0769\n"
     ]
    }
   ],
   "source": [
    "#Training \n",
    "history = model.fit(train_data_gen,\n",
    "                    steps_per_epoch=len(train_images) // batch_size,\n",
    "                    epochs=20,\n",
    "                    validation_data=val_data_gen,\n",
    "                    validation_steps=len(test_images) // batch_size)"
   ]
  },
  {
   "cell_type": "code",
   "execution_count": 15,
   "metadata": {
    "colab": {
     "base_uri": "https://localhost:8080/",
     "height": 295
    },
    "id": "VEUGhEW-v_6C",
    "outputId": "4775ab90-d75d-4370-99fc-c3ef6152a436"
   },
   "outputs": [
    {
     "data": {
      "image/png": "[encoded data removed]",
      "text/plain": [
       "<Figure size 432x288 with 1 Axes>"
      ]
     },
     "metadata": {
      "needs_background": "light",
      "tags": []
     },
     "output_type": "display_data"
    }
   ],
   "source": [
    "loss = history.history['loss']\n",
    "val_loss = history.history['val_loss']\n",
    "plt.plot(history.history['loss'], label='Training Loss')\n",
    "plt.plot(history.history['val_loss'], label='Validation Loss')\n",
    "plt.xlabel('Epoch')\n",
    "plt.ylabel('Sparse Categorical Crossentropy Loss')\n",
    "plt.legend(loc='upper right')\n",
    "plt.title('Training and Validation Loss')\n",
    "plt.show()"
   ]
  },
  {
   "cell_type": "code",
   "execution_count": 16,
   "metadata": {
    "colab": {
     "base_uri": "https://localhost:8080/",
     "height": 295
    },
    "id": "QBsATTik56uf",
    "outputId": "7e5b8e04-21b6-4067-efe9-80206b6b0b6a"
   },
   "outputs": [
    {
     "data": {
      "image/png": "[encoded data removed]",
      "text/plain": [
       "<Figure size 432x288 with 1 Axes>"
      ]
     },
     "metadata": {
      "needs_background": "light",
      "tags": []
     },
     "output_type": "display_data"
    }
   ],
   "source": [
    "plt.plot(history.history['accuracy'], label='accuracy')\n",
    "plt.plot(history.history['val_accuracy'], label = 'val_accuracy')\n",
    "plt.xlabel('Epoch')\n",
    "plt.ylabel('Accuracy')\n",
    "plt.title('Training and Validation Accuracy')\n",
    "# plt.ylim([0.5, 1])\n",
    "plt.legend(loc='lower right')\n",
    "plt.show()"
   ]
  },
  {
   "cell_type": "code",
   "execution_count": null,
   "metadata": {
    "id": "k1XZ_Qor6E8E"
   },
   "outputs": [],
   "source": []
  }
 ],
 "metadata": {
  "accelerator": "TPU",
  "colab": {
   "name": "CNN_CIFAR_DA.ipynb",
   "provenance": []
  },
  "kernelspec": {
   "display_name": "Python 3 (ipykernel)",
   "language": "python",
   "name": "python3"
  },
  "language_info": {
   "codemirror_mode": {
    "name": "ipython",
    "version": 3
   },
   "file_extension": ".py",
   "mimetype": "text/x-python",
   "name": "python",
   "nbconvert_exporter": "python",
   "pygments_lexer": "ipython3",
   "version": "3.7.9"
  }
 },
 "nbformat": 4,
 "nbformat_minor": 4
}
