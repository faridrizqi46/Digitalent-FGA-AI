{
  "nbformat": 4,
  "nbformat_minor": 0,
  "metadata": {
    "colab": {
      "name": "TIMESERIES FORECASTING.ipynb",
      "provenance": [],
      "collapsed_sections": []
    },
    "kernelspec": {
      "name": "python3",
      "display_name": "Python 3"
    },
    "language_info": {
      "name": "python"
    },
    "accelerator": "GPU"
  },
  "cells": [
    {
      "cell_type": "code",
      "metadata": {
        "id": "YgArrLzQPXEy"
      },
      "source": [
        "import pandas as pd\n",
        "import numpy as np\n",
        "import matplotlib.pyplot as plt\n",
        "import math\n",
        "import tensorflow as tf\n",
        "from tensorflow.keras.models import Sequential\n",
        "from tensorflow.keras.layers import LSTM, Dense\n",
        "from sklearn.preprocessing import MinMaxScaler\n"
      ],
      "execution_count": 7,
      "outputs": []
    },
    {
      "cell_type": "code",
      "metadata": {
        "id": "LpGnB4r9Psoa"
      },
      "source": [
        "np.random.seed(5)\n",
        "tf.random.set_seed(5)"
      ],
      "execution_count": 4,
      "outputs": []
    },
    {
      "cell_type": "code",
      "metadata": {
        "colab": {
          "base_uri": "https://localhost:8080/",
          "height": 191
        },
        "id": "5brPZSXxQg-O",
        "outputId": "5e646a08-d7cc-4344-d3d5-d739a1732bf7"
      },
      "source": [
        "dataset = pd.read_csv(\"dataset_timeseries.csv\")\n",
        "dataset.head()"
      ],
      "execution_count": 5,
      "outputs": [
        {
          "output_type": "execute_result",
          "data": {
            "text/html": [
              "<div>\n",
              "<style scoped>\n",
              "    .dataframe tbody tr th:only-of-type {\n",
              "        vertical-align: middle;\n",
              "    }\n",
              "\n",
              "    .dataframe tbody tr th {\n",
              "        vertical-align: top;\n",
              "    }\n",
              "\n",
              "    .dataframe thead th {\n",
              "        text-align: right;\n",
              "    }\n",
              "</style>\n",
              "<table border=\"1\" class=\"dataframe\">\n",
              "  <thead>\n",
              "    <tr style=\"text-align: right;\">\n",
              "      <th></th>\n",
              "      <th>1455.219971</th>\n",
              "    </tr>\n",
              "  </thead>\n",
              "  <tbody>\n",
              "    <tr>\n",
              "      <th>0</th>\n",
              "      <td>1399.420044</td>\n",
              "    </tr>\n",
              "    <tr>\n",
              "      <th>1</th>\n",
              "      <td>1402.109985</td>\n",
              "    </tr>\n",
              "    <tr>\n",
              "      <th>2</th>\n",
              "      <td>1403.449951</td>\n",
              "    </tr>\n",
              "    <tr>\n",
              "      <th>3</th>\n",
              "      <td>1441.469971</td>\n",
              "    </tr>\n",
              "    <tr>\n",
              "      <th>4</th>\n",
              "      <td>1457.599976</td>\n",
              "    </tr>\n",
              "  </tbody>\n",
              "</table>\n",
              "</div>"
            ],
            "text/plain": [
              "   1455.219971\n",
              "0  1399.420044\n",
              "1  1402.109985\n",
              "2  1403.449951\n",
              "3  1441.469971\n",
              "4  1457.599976"
            ]
          },
          "metadata": {},
          "execution_count": 5
        }
      ]
    },
    {
      "cell_type": "code",
      "metadata": {
        "colab": {
          "base_uri": "https://localhost:8080/",
          "height": 283
        },
        "id": "VrSzaX0FQsZt",
        "outputId": "5d73dff2-d608-47a5-c75b-3d9320414ba9"
      },
      "source": [
        "plt.plot(dataset)"
      ],
      "execution_count": 6,
      "outputs": [
        {
          "output_type": "execute_result",
          "data": {
            "text/plain": [
              "[<matplotlib.lines.Line2D at 0x7f0afd686110>]"
            ]
          },
          "metadata": {},
          "execution_count": 6
        },
        {
          "output_type": "display_data",
          "data": {
            "image/png": "[encoded data removed]",
            "text/plain": [
              "<Figure size 432x288 with 1 Axes>"
            ]
          },
          "metadata": {
            "needs_background": "light"
          }
        }
      ]
    },
    {
      "cell_type": "code",
      "metadata": {
        "id": "m-O_JP14Q2pO"
      },
      "source": [
        "scaler = MinMaxScaler(feature_range=(0,1))\n",
        "dataset = scaler.fit_transform(dataset)"
      ],
      "execution_count": 8,
      "outputs": []
    },
    {
      "cell_type": "code",
      "metadata": {
        "colab": {
          "base_uri": "https://localhost:8080/"
        },
        "id": "lWaiynN9RdkS",
        "outputId": "3ceb6d8d-d49d-4047-df4d-31e1d8fefc82"
      },
      "source": [
        "#SPLIT DATASET\n",
        "\n",
        "train_size = int(len(dataset) *0.67)\n",
        "\n",
        "train_data = dataset[:train_size]\n",
        "test_data = dataset[train_size:]\n",
        "\n",
        "# train_data.shape\n",
        "# test_data.shape"
      ],
      "execution_count": 11,
      "outputs": [
        {
          "output_type": "execute_result",
          "data": {
            "text/plain": [
              "(1377, 1)"
            ]
          },
          "metadata": {},
          "execution_count": 11
        }
      ]
    },
    {
      "cell_type": "code",
      "metadata": {
        "id": "yax2wJ7DSdXS"
      },
      "source": [
        "#GET LOOK BACK \n",
        "def create_dataset(dataset, look_back):\n",
        "    dataX, dataY = [], []\n",
        "    for i in range(len(dataset)-look_back-1):\n",
        "      a = dataset[i:(i+look_back), 0]\n",
        "      dataX.append(a)\n",
        "      dataY.append(dataset[i + look_back, 0])\n",
        "    return np.array(dataX), np.array(dataY) "
      ],
      "execution_count": 12,
      "outputs": []
    },
    {
      "cell_type": "code",
      "metadata": {
        "colab": {
          "base_uri": "https://localhost:8080/"
        },
        "id": "QCzlnrJKSwf5",
        "outputId": "50ee0023-9ee9-4ee4-da67-19678c29d1a5"
      },
      "source": [
        "look_back = 10\n",
        "trainX, trainY = create_dataset(train_data, look_back)\n",
        "testX, testY = create_dataset(test_data, look_back) \n",
        "\n",
        "print(trainX.shape)"
      ],
      "execution_count": 17,
      "outputs": [
        {
          "output_type": "stream",
          "text": [
            "(2782, 10)\n"
          ],
          "name": "stdout"
        }
      ]
    },
    {
      "cell_type": "code",
      "metadata": {
        "id": "VQHTOOoNTL03"
      },
      "source": [
        "#-- Reshape input to be [samples, time steps, features]: --#\n",
        "trainX = np.reshape(trainX, (trainX.shape[0], 1, trainX.shape[1]))\n",
        "testX = np.reshape(testX, (testX.shape[0], 1, testX.shape[1]))"
      ],
      "execution_count": 18,
      "outputs": []
    },
    {
      "cell_type": "code",
      "metadata": {
        "colab": {
          "base_uri": "https://localhost:8080/"
        },
        "id": "IqhNzueNTdr8",
        "outputId": "caa7e3e5-6bfc-4eb8-ddc1-d3dce200ddf1"
      },
      "source": [
        "print(trainX.shape)"
      ],
      "execution_count": 19,
      "outputs": [
        {
          "output_type": "stream",
          "text": [
            "(2782, 1, 10)\n"
          ],
          "name": "stdout"
        }
      ]
    },
    {
      "cell_type": "code",
      "metadata": {
        "id": "jyHiYcXeTvhb"
      },
      "source": [
        "trainX[:5]"
      ],
      "execution_count": null,
      "outputs": []
    },
    {
      "cell_type": "code",
      "metadata": {
        "id": "x6TIs3TTT2XW"
      },
      "source": [
        "model = Sequential()\n",
        "model.add(LSTM(32,input_shape=[1,look_back]))\n",
        "model.add(Dense(1))"
      ],
      "execution_count": 22,
      "outputs": []
    },
    {
      "cell_type": "code",
      "metadata": {
        "colab": {
          "base_uri": "https://localhost:8080/"
        },
        "id": "BLH5UhbBUoUL",
        "outputId": "f923c8e0-bdf9-4546-e44e-428f9920bdd6"
      },
      "source": [
        "model.compile(optimizer='adam', metrics=['accuracy'],loss='mean_squared_error')\n",
        "model.summary()"
      ],
      "execution_count": 23,
      "outputs": [
        {
          "output_type": "stream",
          "text": [
            "Model: \"sequential\"\n",
            "_________________________________________________________________\n",
            "Layer (type)                 Output Shape              Param #   \n",
            "=================================================================\n",
            "lstm (LSTM)                  (None, 32)                5504      \n",
            "_________________________________________________________________\n",
            "dense (Dense)                (None, 1)                 33        \n",
            "=================================================================\n",
            "Total params: 5,537\n",
            "Trainable params: 5,537\n",
            "Non-trainable params: 0\n",
            "_________________________________________________________________\n"
          ],
          "name": "stdout"
        }
      ]
    },
    {
      "cell_type": "code",
      "metadata": {
        "colab": {
          "base_uri": "https://localhost:8080/"
        },
        "id": "mW9dolhBVJM4",
        "outputId": "02456bea-a911-4038-c102-8b173e336c7f"
      },
      "source": [
        "history = model.fit(trainX,trainY,epochs=50, batch_size=10, verbose=2)"
      ],
      "execution_count": 24,
      "outputs": [
        {
          "output_type": "stream",
          "text": [
            "Epoch 1/50\n",
            "279/279 - 7s - loss: 0.0054 - accuracy: 3.5945e-04\n",
            "Epoch 2/50\n",
            "279/279 - 1s - loss: 3.1951e-04 - accuracy: 3.5945e-04\n",
            "Epoch 3/50\n",
            "279/279 - 1s - loss: 2.9479e-04 - accuracy: 3.5945e-04\n",
            "Epoch 4/50\n",
            "279/279 - 1s - loss: 2.7966e-04 - accuracy: 3.5945e-04\n",
            "Epoch 5/50\n",
            "279/279 - 1s - loss: 2.5753e-04 - accuracy: 3.5945e-04\n",
            "Epoch 6/50\n",
            "279/279 - 1s - loss: 2.4282e-04 - accuracy: 3.5945e-04\n",
            "Epoch 7/50\n",
            "279/279 - 1s - loss: 2.2120e-04 - accuracy: 3.5945e-04\n",
            "Epoch 8/50\n",
            "279/279 - 1s - loss: 2.1038e-04 - accuracy: 3.5945e-04\n",
            "Epoch 9/50\n",
            "279/279 - 1s - loss: 1.9674e-04 - accuracy: 3.5945e-04\n",
            "Epoch 10/50\n",
            "279/279 - 1s - loss: 1.7837e-04 - accuracy: 3.5945e-04\n",
            "Epoch 11/50\n",
            "279/279 - 1s - loss: 1.7658e-04 - accuracy: 3.5945e-04\n",
            "Epoch 12/50\n",
            "279/279 - 1s - loss: 1.5674e-04 - accuracy: 3.5945e-04\n",
            "Epoch 13/50\n",
            "279/279 - 1s - loss: 1.6457e-04 - accuracy: 3.5945e-04\n",
            "Epoch 14/50\n",
            "279/279 - 1s - loss: 1.5380e-04 - accuracy: 3.5945e-04\n",
            "Epoch 15/50\n",
            "279/279 - 1s - loss: 1.4975e-04 - accuracy: 3.5945e-04\n",
            "Epoch 16/50\n",
            "279/279 - 1s - loss: 1.4233e-04 - accuracy: 3.5945e-04\n",
            "Epoch 17/50\n",
            "279/279 - 1s - loss: 1.4910e-04 - accuracy: 3.5945e-04\n",
            "Epoch 18/50\n",
            "279/279 - 1s - loss: 1.3421e-04 - accuracy: 3.5945e-04\n",
            "Epoch 19/50\n",
            "279/279 - 1s - loss: 1.3042e-04 - accuracy: 3.5945e-04\n",
            "Epoch 20/50\n",
            "279/279 - 1s - loss: 1.4234e-04 - accuracy: 3.5945e-04\n",
            "Epoch 21/50\n",
            "279/279 - 1s - loss: 1.3158e-04 - accuracy: 3.5945e-04\n",
            "Epoch 22/50\n",
            "279/279 - 1s - loss: 1.2788e-04 - accuracy: 3.5945e-04\n",
            "Epoch 23/50\n",
            "279/279 - 1s - loss: 1.3449e-04 - accuracy: 3.5945e-04\n",
            "Epoch 24/50\n",
            "279/279 - 1s - loss: 1.2873e-04 - accuracy: 3.5945e-04\n",
            "Epoch 25/50\n",
            "279/279 - 1s - loss: 1.2121e-04 - accuracy: 3.5945e-04\n",
            "Epoch 26/50\n",
            "279/279 - 1s - loss: 1.2187e-04 - accuracy: 3.5945e-04\n",
            "Epoch 27/50\n",
            "279/279 - 1s - loss: 1.2722e-04 - accuracy: 3.5945e-04\n",
            "Epoch 28/50\n",
            "279/279 - 1s - loss: 1.2126e-04 - accuracy: 3.5945e-04\n",
            "Epoch 29/50\n",
            "279/279 - 1s - loss: 1.2104e-04 - accuracy: 3.5945e-04\n",
            "Epoch 30/50\n",
            "279/279 - 1s - loss: 1.1858e-04 - accuracy: 3.5945e-04\n",
            "Epoch 31/50\n",
            "279/279 - 1s - loss: 1.1623e-04 - accuracy: 3.5945e-04\n",
            "Epoch 32/50\n",
            "279/279 - 1s - loss: 1.1681e-04 - accuracy: 3.5945e-04\n",
            "Epoch 33/50\n",
            "279/279 - 1s - loss: 1.1455e-04 - accuracy: 3.5945e-04\n",
            "Epoch 34/50\n",
            "279/279 - 1s - loss: 1.2275e-04 - accuracy: 3.5945e-04\n",
            "Epoch 35/50\n",
            "279/279 - 1s - loss: 1.1955e-04 - accuracy: 3.5945e-04\n",
            "Epoch 36/50\n",
            "279/279 - 1s - loss: 1.2300e-04 - accuracy: 3.5945e-04\n",
            "Epoch 37/50\n",
            "279/279 - 1s - loss: 1.1435e-04 - accuracy: 3.5945e-04\n",
            "Epoch 38/50\n",
            "279/279 - 1s - loss: 1.1775e-04 - accuracy: 3.5945e-04\n",
            "Epoch 39/50\n",
            "279/279 - 1s - loss: 1.1501e-04 - accuracy: 3.5945e-04\n",
            "Epoch 40/50\n",
            "279/279 - 1s - loss: 1.2070e-04 - accuracy: 3.5945e-04\n",
            "Epoch 41/50\n",
            "279/279 - 1s - loss: 1.1384e-04 - accuracy: 3.5945e-04\n",
            "Epoch 42/50\n",
            "279/279 - 1s - loss: 1.1336e-04 - accuracy: 3.5945e-04\n",
            "Epoch 43/50\n",
            "279/279 - 1s - loss: 1.1671e-04 - accuracy: 3.5945e-04\n",
            "Epoch 44/50\n",
            "279/279 - 1s - loss: 1.1008e-04 - accuracy: 3.5945e-04\n",
            "Epoch 45/50\n",
            "279/279 - 1s - loss: 1.2455e-04 - accuracy: 3.5945e-04\n",
            "Epoch 46/50\n",
            "279/279 - 1s - loss: 1.2157e-04 - accuracy: 3.5945e-04\n",
            "Epoch 47/50\n",
            "279/279 - 1s - loss: 1.1780e-04 - accuracy: 3.5945e-04\n",
            "Epoch 48/50\n",
            "279/279 - 1s - loss: 1.1830e-04 - accuracy: 3.5945e-04\n",
            "Epoch 49/50\n",
            "279/279 - 1s - loss: 1.1567e-04 - accuracy: 3.5945e-04\n",
            "Epoch 50/50\n",
            "279/279 - 1s - loss: 1.1355e-04 - accuracy: 3.5945e-04\n"
          ],
          "name": "stdout"
        }
      ]
    },
    {
      "cell_type": "code",
      "metadata": {
        "colab": {
          "base_uri": "https://localhost:8080/"
        },
        "id": "UHgDTAg1Vc3N",
        "outputId": "8bd3de1e-2aee-40ff-91f0-a2368a1d1511"
      },
      "source": [
        "skor_evaluasi = model.evaluate(testX,testY)\n",
        "print(skor_evaluasi)"
      ],
      "execution_count": 27,
      "outputs": [
        {
          "output_type": "stream",
          "text": [
            "43/43 [==============================] - 0s 2ms/step - loss: 0.0011 - accuracy: 7.3206e-04\n",
            "[0.0010662684217095375, 0.0007320644217543304]\n"
          ],
          "name": "stdout"
        }
      ]
    },
    {
      "cell_type": "code",
      "metadata": {
        "id": "FJMP2493Wdvg"
      },
      "source": [
        "trainPredict = model.predict(trainX)\n",
        "testPredict = model.predict(testX)\n",
        "\n",
        "# invert predictions\n",
        "trainPredict = scaler.inverse_transform(trainPredict)\n",
        "trainY = scaler.inverse_transform([trainY])\n",
        "testPredict = scaler.inverse_transform(testPredict)\n",
        "testY = scaler.inverse_transform([testY]) "
      ],
      "execution_count": 31,
      "outputs": []
    },
    {
      "cell_type": "code",
      "metadata": {
        "colab": {
          "base_uri": "https://localhost:8080/",
          "height": 265
        },
        "id": "2e6DLPP1WDZX",
        "outputId": "3179c593-80a5-4a0e-b20f-aebd745e3580"
      },
      "source": [
        "#function for ploting accuracy prediction\n",
        "def plot_pred(dataset):\n",
        "    #-- Shift train predictions for plotting --#\n",
        "    trainPredictPlot = np.empty_like(dataset)\n",
        "    trainPredictPlot[:, :] = np.nan\n",
        "    trainPredictPlot[look_back:len(trainPredict)+look_back, :] = trainPredict\n",
        "\n",
        "    #-- Shift test predictions for plotting --#\n",
        "    testPredictPlot = np.empty_like(dataset)\n",
        "    testPredictPlot[:, :] = np.nan\n",
        "    testPredictPlot[len(trainPredict)+(look_back*2)+1:len(dataset)-1, :] = testPredict\n",
        "\n",
        "    #-- Plot baseline and predictions --#\n",
        "    plt.plot(scaler.inverse_transform(dataset), c='g', label='actual dataset')\n",
        "    plt.plot(trainPredictPlot, c='gold', label='trained')\n",
        "    plt.plot(testPredictPlot, c='r', label='predicted')\n",
        "    plt.legend(loc=2)\n",
        "\n",
        "\n",
        "plot_pred(dataset)\n",
        "plt.show() "
      ],
      "execution_count": 32,
      "outputs": [
        {
          "output_type": "display_data",
          "data": {
            "image/png": "[encoded data removed]",
            "text/plain": [
              "<Figure size 432x288 with 1 Axes>"
            ]
          },
          "metadata": {
            "needs_background": "light"
          }
        }
      ]
    }
  ]
}