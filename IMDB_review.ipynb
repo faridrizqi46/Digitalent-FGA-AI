{
  "nbformat": 4,
  "nbformat_minor": 0,
  "metadata": {
    "colab": {
      "name": "IMDB_review.ipynb",
      "provenance": [],
      "collapsed_sections": []
    },
    "kernelspec": {
      "name": "python3",
      "display_name": "Python 3"
    },
    "language_info": {
      "name": "python"
    },
    "accelerator": "GPU"
  },
  "cells": [
    {
      "cell_type": "code",
      "metadata": {
        "colab": {
          "base_uri": "https://localhost:8080/"
        },
        "id": "b3ujk74jPYPg",
        "outputId": "20f2f65c-7b51-4829-a52f-1844277c2697"
      },
      "source": [
        "import tensorflow as tf\n",
        "import tensorflow_datasets as tfds\n",
        "tfds.disable_progress_bar()\n",
        "\n",
        "dataset, info = tfds.load('imdb_reviews/subwords8k', with_info=True, as_supervised=True)\n"
      ],
      "execution_count": 1,
      "outputs": [
        {
          "output_type": "stream",
          "text": [
            "WARNING:absl:TFDS datasets with text encoding are deprecated and will be removed in a future version. Instead, you should use the plain text version and tokenize the text using `tensorflow_text` (See: https://www.tensorflow.org/tutorials/tensorflow_text/intro#tfdata_example)\n"
          ],
          "name": "stderr"
        },
        {
          "output_type": "stream",
          "text": [
            "\u001b[1mDownloading and preparing dataset imdb_reviews/subwords8k/1.0.0 (download: 80.23 MiB, generated: Unknown size, total: 80.23 MiB) to /root/tensorflow_datasets/imdb_reviews/subwords8k/1.0.0...\u001b[0m\n",
            "Shuffling and writing examples to /root/tensorflow_datasets/imdb_reviews/subwords8k/1.0.0.incompleteA9W7PM/imdb_reviews-train.tfrecord\n",
            "Shuffling and writing examples to /root/tensorflow_datasets/imdb_reviews/subwords8k/1.0.0.incompleteA9W7PM/imdb_reviews-test.tfrecord\n"
          ],
          "name": "stdout"
        },
        {
          "output_type": "stream",
          "text": [
            "WARNING:absl:Dataset is using deprecated text encoder API which will be removed soon. Please use the plain_text version of the dataset and migrate to `tensorflow_text`.\n"
          ],
          "name": "stderr"
        },
        {
          "output_type": "stream",
          "text": [
            "Shuffling and writing examples to /root/tensorflow_datasets/imdb_reviews/subwords8k/1.0.0.incompleteA9W7PM/imdb_reviews-unsupervised.tfrecord\n",
            "\u001b[1mDataset imdb_reviews downloaded and prepared to /root/tensorflow_datasets/imdb_reviews/subwords8k/1.0.0. Subsequent calls will reuse this data.\u001b[0m\n"
          ],
          "name": "stdout"
        }
      ]
    },
    {
      "cell_type": "code",
      "metadata": {
        "id": "rT6yj6R5S3hc"
      },
      "source": [
        ""
      ],
      "execution_count": null,
      "outputs": []
    },
    {
      "cell_type": "code",
      "metadata": {
        "colab": {
          "base_uri": "https://localhost:8080/"
        },
        "id": "ZiL3yrGaQ0Dg",
        "outputId": "2b9bc596-409c-47a2-c5f0-ab6789b91d72"
      },
      "source": [
        "encoder = info.features[\"text\"].encoder #konversi text ke bags of words\n",
        "print(f'Vocabulary size: {encoder.vocab_size}')\n"
      ],
      "execution_count": 2,
      "outputs": [
        {
          "output_type": "stream",
          "text": [
            "Vocabulary size: 8185\n"
          ],
          "name": "stdout"
        }
      ]
    },
    {
      "cell_type": "code",
      "metadata": {
        "colab": {
          "base_uri": "https://localhost:8080/"
        },
        "id": "Tt3S028zRZND",
        "outputId": "5922cb06-e32e-41e4-9b40-469814dc393a"
      },
      "source": [
        "review = \"terrible movie!\"\n",
        "encoded_review = encoder.encode(review) #mengubah text menjadi angka2\n",
        "#kata terrible jadi vector tersendiri, movie juga. ada lokasinya juga di setiap layernya\n",
        "#keluaran embedding layer yg bakal diolah\n",
        "print(f'Encoded review is {encoded_review}') \n",
        "\n",
        "original_review = encoder.decode(encoded_review) #decode angka2 kembali menjadi text\n",
        "print(f'The original review is \"{original_review}\" ')\n",
        "\n"
      ],
      "execution_count": 4,
      "outputs": [
        {
          "output_type": "stream",
          "text": [
            "Encoded review is [927, 65, 7962]\n",
            "The original review is \"terrible movie!\" \n"
          ],
          "name": "stdout"
        }
      ]
    },
    {
      "cell_type": "code",
      "metadata": {
        "id": "DxHOMLdJXcu-"
      },
      "source": [
        ""
      ],
      "execution_count": null,
      "outputs": []
    },
    {
      "cell_type": "code",
      "metadata": {
        "id": "IDtslWCwSRp7"
      },
      "source": [
        "train_data, test_data = dataset['train'], dataset['test']\n",
        "BUFFER_SIZE = 10000 #untuk mengacak2 kata2 (untuk menghindari bias)\n",
        "BATCH_SIZE = 64 #panjang sequence\n",
        "train_data = train_data.shuffle(BUFFER_SIZE) \n",
        "train_data = train_data.padded_batch(BATCH_SIZE) #apa itu padding dalam text? https://www.tensorflow.org/guide/keras/masking_and_padding\n",
        "#intinya padding untuk memenuhi data huruf yang kurang panjang vectornya. \n",
        "#kalo padding dalam data numerik, data yg kurang dibuat 0\n",
        "test_data = test_data.padded_batch(BATCH_SIZE)\n",
        "\n"
      ],
      "execution_count": 5,
      "outputs": []
    },
    {
      "cell_type": "code",
      "metadata": {
        "colab": {
          "base_uri": "https://localhost:8080/"
        },
        "id": "kX4fBEkLS46H",
        "outputId": "e59c4674-dd43-48b7-946e-e37257c43300"
      },
      "source": [
        "from tensorflow.keras.models import Sequential\n",
        "from tensorflow.keras.layers import Dense, Embedding, Bidirectional, Dropout, LSTM\n",
        "from tensorflow.keras.losses import BinaryCrossentropy\n",
        "from tensorflow.keras.optimizers import Adam\n",
        "\n",
        "model = Sequential()\n",
        "model.add(Embedding(encoder.vocab_size, 64))\n",
        "model.add(Bidirectional(LSTM(64, return_sequences=True)))\n",
        "model.add(Bidirectional(LSTM(32)))\n",
        "model.add(Dense(64, activation='relu'))\n",
        "model.add(Dropout(0.5))\n",
        "model.add(Dense(1)) #output neuron \n",
        "model.summary()\n",
        "\n",
        "\n"
      ],
      "execution_count": 7,
      "outputs": [
        {
          "output_type": "stream",
          "text": [
            "Model: \"sequential_1\"\n",
            "_________________________________________________________________\n",
            "Layer (type)                 Output Shape              Param #   \n",
            "=================================================================\n",
            "embedding_1 (Embedding)      (None, None, 64)          523840    \n",
            "_________________________________________________________________\n",
            "bidirectional_2 (Bidirection (None, None, 128)         66048     \n",
            "_________________________________________________________________\n",
            "bidirectional_3 (Bidirection (None, 64)                41216     \n",
            "_________________________________________________________________\n",
            "dense_2 (Dense)              (None, 64)                4160      \n",
            "_________________________________________________________________\n",
            "dropout_1 (Dropout)          (None, 64)                0         \n",
            "_________________________________________________________________\n",
            "dense_3 (Dense)              (None, 1)                 65        \n",
            "=================================================================\n",
            "Total params: 635,329\n",
            "Trainable params: 635,329\n",
            "Non-trainable params: 0\n",
            "_________________________________________________________________\n"
          ],
          "name": "stdout"
        }
      ]
    },
    {
      "cell_type": "code",
      "metadata": {
        "colab": {
          "base_uri": "https://localhost:8080/",
          "height": 661
        },
        "id": "DWs7nUAgTm9G",
        "outputId": "82bdf651-4191-4b41-ef43-4a5728a4979d"
      },
      "source": [
        "tf.keras.utils.plot_model(model)\n"
      ],
      "execution_count": 8,
      "outputs": [
        {
          "output_type": "execute_result",
          "data": {
            "image/png": "[encoded data removed]",
            "text/plain": [
              "<IPython.core.display.Image object>"
            ]
          },
          "metadata": {},
          "execution_count": 8
        }
      ]
    },
    {
      "cell_type": "code",
      "metadata": {
        "colab": {
          "base_uri": "https://localhost:8080/"
        },
        "id": "bgvqmcgaTtLG",
        "outputId": "3068617f-9bb8-496e-c1cd-135be1a52208"
      },
      "source": [
        "model.compile(loss=BinaryCrossentropy(from_logits=True),\n",
        "              optimizer=Adam(1e-4),\n",
        "              metrics=['accuracy'])\n",
        "\n",
        "history = model.fit(train_data, \n",
        "                    epochs=10, \n",
        "                    validation_data=test_data,\n",
        "                    validation_steps=30)\n"
      ],
      "execution_count": 9,
      "outputs": [
        {
          "output_type": "stream",
          "text": [
            "Epoch 1/10\n",
            "391/391 [==============================] - 81s 178ms/step - loss: 0.6643 - accuracy: 0.5427 - val_loss: 0.4939 - val_accuracy: 0.7656\n",
            "Epoch 2/10\n",
            "391/391 [==============================] - 69s 175ms/step - loss: 0.3875 - accuracy: 0.8355 - val_loss: 0.3622 - val_accuracy: 0.8323\n",
            "Epoch 3/10\n",
            "391/391 [==============================] - 70s 177ms/step - loss: 0.2770 - accuracy: 0.8954 - val_loss: 0.3754 - val_accuracy: 0.8245\n",
            "Epoch 4/10\n",
            "391/391 [==============================] - 69s 175ms/step - loss: 0.2232 - accuracy: 0.9206 - val_loss: 0.3568 - val_accuracy: 0.8594\n",
            "Epoch 5/10\n",
            "391/391 [==============================] - 70s 179ms/step - loss: 0.1906 - accuracy: 0.9342 - val_loss: 0.3617 - val_accuracy: 0.8562\n",
            "Epoch 6/10\n",
            "391/391 [==============================] - 70s 179ms/step - loss: 0.1601 - accuracy: 0.9496 - val_loss: 0.3942 - val_accuracy: 0.8464\n",
            "Epoch 7/10\n",
            "391/391 [==============================] - 71s 180ms/step - loss: 0.1449 - accuracy: 0.9585 - val_loss: 0.4417 - val_accuracy: 0.8547\n",
            "Epoch 8/10\n",
            "391/391 [==============================] - 72s 183ms/step - loss: 0.1204 - accuracy: 0.9666 - val_loss: 0.4862 - val_accuracy: 0.8557\n",
            "Epoch 9/10\n",
            "391/391 [==============================] - 70s 179ms/step - loss: 0.1082 - accuracy: 0.9726 - val_loss: 0.5040 - val_accuracy: 0.8474\n",
            "Epoch 10/10\n",
            "391/391 [==============================] - 70s 178ms/step - loss: 0.0995 - accuracy: 0.9745 - val_loss: 0.5137 - val_accuracy: 0.8531\n"
          ],
          "name": "stdout"
        }
      ]
    },
    {
      "cell_type": "code",
      "metadata": {
        "colab": {
          "base_uri": "https://localhost:8080/"
        },
        "id": "XLU8jpVMXeXb",
        "outputId": "239a33f5-7602-4cb5-c046-d0ce7d31b189"
      },
      "source": [
        "test_loss, test_acc = model.evaluate(test_data)\n",
        "\n",
        "print('Test Loss:', test_loss)\n",
        "print('Test Accuracy:', test_acc)\n"
      ],
      "execution_count": 10,
      "outputs": [
        {
          "output_type": "stream",
          "text": [
            "391/391 [==============================] - 31s 80ms/step - loss: 0.5148 - accuracy: 0.8500\n",
            "Test Loss: 0.5147503018379211\n",
            "Test Accuracy: 0.8499600291252136\n"
          ],
          "name": "stdout"
        }
      ]
    },
    {
      "cell_type": "code",
      "metadata": {
        "colab": {
          "base_uri": "https://localhost:8080/",
          "height": 446
        },
        "id": "RexXNprFX2yx",
        "outputId": "4669a9b4-b2ce-44f3-b5a5-e72a358accf7"
      },
      "source": [
        "import matplotlib.pyplot as plt\n",
        "\n",
        "def plot_graphs(history, metric):\n",
        "  plt.plot(history.history[metric])\n",
        "  plt.plot(history.history['val_'+metric], '')\n",
        "  plt.xlabel(\"Epochs\")\n",
        "  plt.ylabel(metric)\n",
        "  plt.legend([metric, 'val_'+metric])\n",
        "\n",
        "plt.figure(figsize=(17, 7))\n",
        "plt.subplot(1, 2, 1)\n",
        "plot_graphs(history, 'accuracy')\n",
        "plt.ylim(None, 1)\n",
        "plt.subplot(1, 2, 2)\n",
        "plot_graphs(history, 'loss')\n",
        "plt.ylim(0, None)\n",
        "plt.show()\n",
        "\n"
      ],
      "execution_count": 11,
      "outputs": [
        {
          "output_type": "display_data",
          "data": {
            "image/png": "[encoded data removed]",
            "text/plain": [
              "<Figure size 1224x504 with 2 Axes>"
            ]
          },
          "metadata": {
            "needs_background": "light"
          }
        }
      ]
    },
    {
      "cell_type": "code",
      "metadata": {
        "colab": {
          "base_uri": "https://localhost:8080/"
        },
        "id": "iHO5wDmjYNfG",
        "outputId": "2f01ba2e-0277-4bd0-9c23-a210144ce754"
      },
      "source": [
        "def review_padding(encoded_review, padding_size):\n",
        "    zeros = [0] * (padding_size - len(encoded_review))\n",
        "    encoded_review.extend(zeros)\n",
        "    return encoded_review\n",
        "\n",
        "def review_encoder(review):\n",
        "    encoded_review = review_padding(encoder.encode( review ), 64)\n",
        "    encoded_review = tf.cast( encoded_review,  tf.float32)\n",
        "    return tf.expand_dims( encoded_review, 0)\n",
        "\n",
        "fight_club_review = 'It has some cliched moments, even for its time, \\\n",
        "but FIGHT CLUB is an awesome film. I have watched it \\\n",
        "about 100 times in the past 20 years. It never gets old. It \\\n",
        "is hard to discuss this film without giving things away but \\\n",
        "suffice it to say, it is a great thriller with some intriguing \\\n",
        "twists.'\n",
        "\n",
        "model.predict(review_encoder(fight_club_review)) #positif artinya bagus (>0.5). negatif jeleg (<0.5)\n"
      ],
      "execution_count": 12,
      "outputs": [
        {
          "output_type": "execute_result",
          "data": {
            "text/plain": [
              "array([[2.1148183]], dtype=float32)"
            ]
          },
          "metadata": {},
          "execution_count": 12
        }
      ]
    },
    {
      "cell_type": "code",
      "metadata": {
        "colab": {
          "base_uri": "https://localhost:8080/"
        },
        "id": "Djwa7pr8Y0BS",
        "outputId": "0f0d3b0f-43d0-4ddb-8e8f-e9a5136b3454"
      },
      "source": [
        "any_movie = 'The movie was not good. The animation and the graphics \\\n",
        "             were terrible. I would not recommend this movie.'\n",
        "\n",
        "model.predict(review_encoder(any_movie))\n"
      ],
      "execution_count": 13,
      "outputs": [
        {
          "output_type": "execute_result",
          "data": {
            "text/plain": [
              "array([[-3.5613031]], dtype=float32)"
            ]
          },
          "metadata": {},
          "execution_count": 13
        }
      ]
    },
    {
      "cell_type": "code",
      "metadata": {
        "colab": {
          "base_uri": "https://localhost:8080/"
        },
        "id": "nYWWFVV6ZBPt",
        "outputId": "943a3b38-2628-4c96-a95c-04b38bc0b04f"
      },
      "source": [
        "mission_impossible_review = 'Worst movie!'\n",
        "\n",
        "model.predict(review_encoder(mission_impossible_review)) #ini ada bias, yg jadi kelemahan model kita\n",
        "#cara ngehandlenya: dicoba cara lain dengan text vectorization (encoding dan decoding data2 nya)\n"
      ],
      "execution_count": 17,
      "outputs": [
        {
          "output_type": "execute_result",
          "data": {
            "text/plain": [
              "array([[2.5654392]], dtype=float32)"
            ]
          },
          "metadata": {},
          "execution_count": 17
        }
      ]
    }
  ]
}